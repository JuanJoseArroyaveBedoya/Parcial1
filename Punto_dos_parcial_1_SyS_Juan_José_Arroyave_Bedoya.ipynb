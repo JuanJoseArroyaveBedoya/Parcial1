{
  "nbformat": 4,
  "nbformat_minor": 0,
  "metadata": {
    "colab": {
      "private_outputs": true,
      "provenance": [],
      "authorship_tag": "ABX9TyPXHCzU0Z3OUCSAUK/NnRlX",
      "include_colab_link": true
    },
    "kernelspec": {
      "name": "python3",
      "display_name": "Python 3"
    },
    "language_info": {
      "name": "python"
    }
  },
  "cells": [
    {
      "cell_type": "markdown",
      "metadata": {
        "id": "view-in-github",
        "colab_type": "text"
      },
      "source": [
        "<a href=\"https://colab.research.google.com/github/JuanJoseArroyaveBedoya/Parcial1/blob/main/Punto_dos_parcial_1_SyS_Juan_Jos%C3%A9_Arroyave_Bedoya.ipynb\" target=\"_parent\"><img src=\"https://colab.research.google.com/assets/colab-badge.svg\" alt=\"Open In Colab\"/></a>"
      ]
    },
    {
      "cell_type": "code",
      "source": [
        "#función cero y pendiente\n",
        "def my_ceropend(x,xhmax=10,xhmin=0):\n",
        "  #cálculo de pendiente y cero\n",
        "  m = (xhmax-xhmin)/(x.max()-x.min())\n",
        "  b = xhmin - m*x.min()\n",
        "  xh = m*x+b\n",
        "  return xh\n",
        "\n",
        "def my_cuantizador(yn, vq) : #yn punto a #cuantizar, vq vector de estados\n",
        "\n",
        "  Ne = vq.shape[0] #tamaño vector de estados\n",
        "  dn = cdist(yn.reshape(-1,1),vq.reshape(-1,1))#distancia yn a vector estados, reshape(-1,1) asegura vectores columna para poder utilizar cdist\n",
        "  ind = np.argmin(dn) #posición distancia min\n",
        "  return vq[ind]"
      ],
      "metadata": {
        "id": "QOxJWF5jwP8L"
      },
      "execution_count": null,
      "outputs": []
    },
    {
      "cell_type": "code",
      "execution_count": null,
      "metadata": {
        "id": "nq9LBbXdwNPC"
      },
      "outputs": [],
      "source": [
        "import numpy as np\n",
        "import matplotlib.pyplot as plt\n",
        "from scipy.spatial.distance import cdist\n",
        "\n",
        "T1 = np.pi/2 #perido señal 1\n",
        "T2 = (2/5)*np.pi #perido señal 2\n",
        "T3 = np.pi/5 #periodo señal 3\n",
        "F1 = 1/T1\n",
        "F2 = 1/T2\n",
        "F3 = 1/T3\n",
        "T = 2*np.pi #perido cuasiperiódica\n",
        "Fs = 10*max(F1,F2,F3) #frecuencia muestreo\n",
        "t = np.arange(0,2*T,1/Fs) #vector de tiempo, se muestran 3 periodos\n",
        "x = 7*(np.sin(4*t-np.pi/3))-2*(np.cos(5*t))+2*(np.cos(10*t))\n",
        "xhmax = 5\n",
        "xhmin = -5\n",
        "xh = my_ceropend(x,xhmax, xhmin).reshape(-1,1)#aplicar cero y pendiente\n",
        "#asegurar vector columna\n",
        "\n",
        "nbits=3\n",
        "ymin=-5\n",
        "ymax=5\n",
        "ne=2**nbits\n",
        "vq=np.linspace(ymin,ymax,ne)#Vector cuantizacion\n",
        "vq=vq.reshape(-1,1)\n",
        "d=cdist(xh.reshape(-1,1),vq)#se utiliza reshape(-1,1) para generar vectores columna como lo pide cdist\n",
        "ind = np.argmin(d,axis=1) #el parámetro axis = 1 indica que busca la posición a lo largo de las columnas del elemento más pequeño en cada fila\n",
        "\n",
        "#recorrer vector cero y spam discretizado para cuantizar\n",
        "\n",
        "for i in range(xh.shape[0]):\n",
        "   if i==0: #primera muestra\n",
        "     yq = my_cuantizador(xh[i],vq)\n",
        "   else:\n",
        "     yq = np.append(yq,my_cuantizador(xh[i],vq)) #apilar datos cuantizando si i>0\n",
        "\n",
        "#graficar señales\n",
        "\n",
        "plt.plot(t,xh,c='r', label='xh')#cs continua\n",
        "plt.stem(t,xh, label='xh_dis')#cs discreta\n",
        "\n"
      ]
    },
    {
      "cell_type": "code",
      "source": [
        "#estados de cuantización\n",
        "for v in vq:\n",
        "  plt.plot(t,v*np.ones(len(t)))\n",
        "# graficar señal Digital (discreta + cuantizada)\n",
        "\n",
        "plt.plot(t,yq,c='y',marker='o',label='ydig', linewidth=2)\n",
        "plt.legend()\n",
        "plt.grid()\n",
        "plt.xlabel('t')\n",
        "plt.ylabel('Amplitud')\n",
        "plt.show()\n"
      ],
      "metadata": {
        "id": "YyUbDmVrx5XU"
      },
      "execution_count": null,
      "outputs": []
    },
    {
      "cell_type": "code",
      "source": [
        "#graficar señales\n",
        "\n",
        "plt.plot(t,xh,c='r', label='xh')#cs continua\n",
        "plt.stem(t,xh, label='xh_dis')#cs discreta\n",
        "#estados de cuantización\n",
        "for v in vq:\n",
        "  plt.plot(t,v*np.ones(len(t)))\n",
        "# graficar señal Digital (discreta + cuantizada)\n",
        "\n",
        "plt.plot(t,yq,c='y',marker='o',label='ydig', linewidth=2)\n",
        "plt.legend()\n",
        "plt.grid()\n",
        "plt.xlabel('t')\n",
        "plt.ylabel('Amplitud')\n",
        "plt.show()\n"
      ],
      "metadata": {
        "id": "AM917Knw2Fqn"
      },
      "execution_count": null,
      "outputs": []
    }
  ]
}